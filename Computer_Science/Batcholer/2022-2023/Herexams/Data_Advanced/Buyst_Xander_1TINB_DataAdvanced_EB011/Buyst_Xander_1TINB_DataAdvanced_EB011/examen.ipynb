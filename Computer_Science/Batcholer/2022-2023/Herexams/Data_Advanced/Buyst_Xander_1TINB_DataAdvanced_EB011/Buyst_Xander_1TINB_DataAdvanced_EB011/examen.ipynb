{
 "cells": [
  {
   "cell_type": "code",
   "execution_count": 1,
   "id": "bca295d4",
   "metadata": {},
   "outputs": [
    {
     "name": "stdout",
     "output_type": "stream",
     "text": [
      "0.9550976266652204\n",
      "0.9115961079383956\n"
     ]
    }
   ],
   "source": [
    "# Vraag 1\n",
    "import scipy.stats as stats\n",
    "import math\n",
    "print(stats.norm.cdf(180, 170.5, 5.6)) #1950\n",
    "print(stats.norm.cdf(186.5, 176.1, 7.7)) #2000\n",
    "\n",
    "# Piet uit 1950 was groter dan Jan uit 2000 in vergelijking met de algemene populatie, omdat er meer oppervlakte links is\n",
    "# bij Piet."
   ]
  },
  {
   "cell_type": "code",
   "execution_count": 2,
   "id": "bfed6bec",
   "metadata": {},
   "outputs": [
    {
     "data": {
      "text/plain": [
       "177"
      ]
     },
     "execution_count": 2,
     "metadata": {},
     "output_type": "execute_result"
    }
   ],
   "source": [
    "# Vraag 2\n",
    "import pandas as pd\n",
    "hotels = pd.read_csv('hotels.csv')\n",
    "\n",
    "len(hotels.country.value_counts())\n",
    "\n",
    "# Er zijn 177 landen vanwaar de gasten komen."
   ]
  },
  {
   "cell_type": "code",
   "execution_count": 3,
   "id": "ee7de0eb",
   "metadata": {},
   "outputs": [
    {
     "data": {
      "image/png": "[encoded data removed]",
      "text/plain": [
       "<Figure size 360x360 with 1 Axes>"
      ]
     },
     "metadata": {
      "needs_background": "light"
     },
     "output_type": "display_data"
    }
   ],
   "source": [
    "# Vraag 3\n",
    "bar_data = hotels.country.value_counts().head(10)\n",
    "bar_plot = bar_data.plot.bar(figsize=(5,5), title = 'Aantal gasten per land van herkomst')"
   ]
  },
  {
   "cell_type": "code",
   "execution_count": 4,
   "id": "a693b41d",
   "metadata": {},
   "outputs": [
    {
     "data": {
      "image/png": "[encoded data removed]",
      "text/plain": [
       "<Figure size 432x288 with 1 Axes>"
      ]
     },
     "metadata": {},
     "output_type": "display_data"
    }
   ],
   "source": [
    "# Vraag 4\n",
    "import matplotlib.pyplot as plt\n",
    "\n",
    "labels = 'eenmalig' , 'terugkerend'\n",
    "plt.pie(hotels.is_repeated_guest.value_counts(), labels = labels, autopct='%3.1f%%')\n",
    "plt.title('Cirkeldiagram van terugkerende gasten')\n",
    "plt.show()\n",
    "\n",
    "# Er komt maar 3.2% van de gasten terug voor nog een verblijf."
   ]
  },
  {
   "cell_type": "code",
   "execution_count": 5,
   "id": "f5214f1b",
   "metadata": {},
   "outputs": [
    {
     "data": {
      "text/html": [
       "<div>\n",
       "<style scoped>\n",
       "    .dataframe tbody tr th:only-of-type {\n",
       "        vertical-align: middle;\n",
       "    }\n",
       "\n",
       "    .dataframe tbody tr th {\n",
       "        vertical-align: top;\n",
       "    }\n",
       "\n",
       "    .dataframe thead th {\n",
       "        text-align: right;\n",
       "    }\n",
       "</style>\n",
       "<table border=\"1\" class=\"dataframe\">\n",
       "  <thead>\n",
       "    <tr style=\"text-align: right;\">\n",
       "      <th>is_canceled</th>\n",
       "      <th>0</th>\n",
       "      <th>1</th>\n",
       "      <th>All</th>\n",
       "    </tr>\n",
       "    <tr>\n",
       "      <th>lead_time</th>\n",
       "      <th></th>\n",
       "      <th></th>\n",
       "      <th></th>\n",
       "    </tr>\n",
       "  </thead>\n",
       "  <tbody>\n",
       "    <tr>\n",
       "      <th>0</th>\n",
       "      <td>5915</td>\n",
       "      <td>430</td>\n",
       "      <td>6345</td>\n",
       "    </tr>\n",
       "    <tr>\n",
       "      <th>1</th>\n",
       "      <td>3139</td>\n",
       "      <td>321</td>\n",
       "      <td>3460</td>\n",
       "    </tr>\n",
       "    <tr>\n",
       "      <th>2</th>\n",
       "      <td>1856</td>\n",
       "      <td>213</td>\n",
       "      <td>2069</td>\n",
       "    </tr>\n",
       "    <tr>\n",
       "      <th>3</th>\n",
       "      <td>1634</td>\n",
       "      <td>182</td>\n",
       "      <td>1816</td>\n",
       "    </tr>\n",
       "    <tr>\n",
       "      <th>4</th>\n",
       "      <td>1539</td>\n",
       "      <td>176</td>\n",
       "      <td>1715</td>\n",
       "    </tr>\n",
       "    <tr>\n",
       "      <th>...</th>\n",
       "      <td>...</td>\n",
       "      <td>...</td>\n",
       "      <td>...</td>\n",
       "    </tr>\n",
       "    <tr>\n",
       "      <th>626</th>\n",
       "      <td>0</td>\n",
       "      <td>30</td>\n",
       "      <td>30</td>\n",
       "    </tr>\n",
       "    <tr>\n",
       "      <th>629</th>\n",
       "      <td>0</td>\n",
       "      <td>17</td>\n",
       "      <td>17</td>\n",
       "    </tr>\n",
       "    <tr>\n",
       "      <th>709</th>\n",
       "      <td>1</td>\n",
       "      <td>0</td>\n",
       "      <td>1</td>\n",
       "    </tr>\n",
       "    <tr>\n",
       "      <th>737</th>\n",
       "      <td>1</td>\n",
       "      <td>0</td>\n",
       "      <td>1</td>\n",
       "    </tr>\n",
       "    <tr>\n",
       "      <th>All</th>\n",
       "      <td>75166</td>\n",
       "      <td>44224</td>\n",
       "      <td>119390</td>\n",
       "    </tr>\n",
       "  </tbody>\n",
       "</table>\n",
       "<p>480 rows × 3 columns</p>\n",
       "</div>"
      ],
      "text/plain": [
       "is_canceled      0      1     All\n",
       "lead_time                        \n",
       "0             5915    430    6345\n",
       "1             3139    321    3460\n",
       "2             1856    213    2069\n",
       "3             1634    182    1816\n",
       "4             1539    176    1715\n",
       "...            ...    ...     ...\n",
       "626              0     30      30\n",
       "629              0     17      17\n",
       "709              1      0       1\n",
       "737              1      0       1\n",
       "All          75166  44224  119390\n",
       "\n",
       "[480 rows x 3 columns]"
      ]
     },
     "execution_count": 5,
     "metadata": {},
     "output_type": "execute_result"
    }
   ],
   "source": [
    "# Vraag 5\n",
    "pd.crosstab(hotels.lead_time, hotels.is_canceled, margins = True)\n",
    "\n",
    "# Er lijkt een trend te zijn waar hoe meer tijd tussen de datum van opname en de aankomstdag zit er daar meer\n",
    "# geannuleerde reservaties zijn. Ook lijkt het zo dat hoe minder dagen tussen de opname en de aankomst hoe meer mensen niet hun\n",
    "# reservatie annuleren."
   ]
  },
  {
   "cell_type": "code",
   "execution_count": 6,
   "id": "8a70ef3b",
   "metadata": {},
   "outputs": [
    {
     "data": {
      "text/plain": [
       "<AxesSubplot:xlabel='hotel'>"
      ]
     },
     "execution_count": 6,
     "metadata": {},
     "output_type": "execute_result"
    },
    {
     "data": {
      "image/png": "[encoded data removed]",
      "text/plain": [
       "<Figure size 432x288 with 1 Axes>"
      ]
     },
     "metadata": {
      "needs_background": "light"
     },
     "output_type": "display_data"
    }
   ],
   "source": [
    "# Vraag 6\n",
    "pd.crosstab(hotels.hotel, hotels.is_canceled).plot(kind = 'bar', rot = 0)\n",
    "\n",
    "# Het lijkt erop dat in Resort hotels er een hogere ratio zit tussen geannuleerde en niet-geannuleerde reservaties.\n",
    "# De City hotels waar ook meer reservaties zijn, zijn er vele vaker geannuleerde reservaties tegenover Resort hotels."
   ]
  },
  {
   "cell_type": "code",
   "execution_count": 7,
   "id": "735e829e",
   "metadata": {},
   "outputs": [],
   "source": [
    "# Vraag 7\n",
    "# Geen antwoord"
   ]
  },
  {
   "cell_type": "code",
   "execution_count": 8,
   "id": "41014715",
   "metadata": {},
   "outputs": [],
   "source": [
    "# Vraag 8\n",
    "from sklearn import preprocessing\n",
    "label_encoder = preprocessing.LabelEncoder()\n",
    "hotels['hotel'] = label_encoder.fit_transform(hotels['hotel'])"
   ]
  },
  {
   "cell_type": "code",
   "execution_count": 9,
   "id": "86688db5",
   "metadata": {},
   "outputs": [
    {
     "name": "stderr",
     "output_type": "stream",
     "text": [
      "C:\\Users\\12101449\\AppData\\Local\\Temp/ipykernel_19188/1020720102.py:3: FutureWarning: In a future version of pandas all arguments of DataFrame.drop except for the argument 'labels' will be keyword-only\n",
      "  hotels_ML.drop(['children', 'babies', 'meal', 'country'], 'columns', inplace=True)\n"
     ]
    }
   ],
   "source": [
    "# Vraag 9\n",
    "hotels_ML = hotels\n",
    "hotels_ML.drop(['children', 'babies', 'meal', 'country'], 'columns', inplace=True)\n",
    "hotels_ML = hotels_ML.dropna()\n",
    "hotels_ML = vhotels_ML, columns=['arrival_date_month'])\n",
    "# verandert de waarde in 0 of 1\n",
    "hotels_ML = pd.get_dummies(hotels_ML, columns=['market_segment'])\n",
    "hotels_ML = pd.get_dummies(hotels_ML, columns=['distribution_channel'])\n",
    "hotels_ML = pd.get_dummies(hotels_ML, columns=['reserved_room_type'])\n",
    "hotels_ML = pd.get_dummies(hotels_ML, columns=['assigned_room_type'])\n",
    "hotels_ML = pd.get_dummies(hotels_ML, columns=['deposit_type'])\n",
    "hotels_ML = pd.get_dummies(hotels_ML, columns=['customer_type'])\n",
    "hotels_ML = pd.get_dummies(hotels_ML, columns=['reservation_status'])\n",
    "hotels_ML = pd.get_dummies(hotels_ML, columns=['reservation_status_date'])"
   ]
  },
  {
   "cell_type": "code",
   "execution_count": 10,
   "id": "49b42dce",
   "metadata": {},
   "outputs": [
    {
     "data": {
      "text/html": [
       "<div>\n",
       "<style scoped>\n",
       "    .dataframe tbody tr th:only-of-type {\n",
       "        vertical-align: middle;\n",
       "    }\n",
       "\n",
       "    .dataframe tbody tr th {\n",
       "        vertical-align: top;\n",
       "    }\n",
       "\n",
       "    .dataframe thead th {\n",
       "        text-align: right;\n",
       "    }\n",
       "</style>\n",
       "<table border=\"1\" class=\"dataframe\">\n",
       "  <thead>\n",
       "    <tr style=\"text-align: right;\">\n",
       "      <th></th>\n",
       "      <th>hotel</th>\n",
       "      <th>is_canceled</th>\n",
       "      <th>lead_time</th>\n",
       "      <th>arrival_date_year</th>\n",
       "      <th>arrival_date_week_number</th>\n",
       "      <th>arrival_date_day_of_month</th>\n",
       "      <th>stays_in_weekend_nights</th>\n",
       "      <th>stays_in_week_nights</th>\n",
       "      <th>adults</th>\n",
       "      <th>is_repeated_guest</th>\n",
       "      <th>...</th>\n",
       "      <th>reservation_status_date_2017-05-15</th>\n",
       "      <th>reservation_status_date_2017-05-25</th>\n",
       "      <th>reservation_status_date_2017-06-02</th>\n",
       "      <th>reservation_status_date_2017-06-10</th>\n",
       "      <th>reservation_status_date_2017-06-13</th>\n",
       "      <th>reservation_status_date_2017-06-20</th>\n",
       "      <th>reservation_status_date_2017-07-17</th>\n",
       "      <th>reservation_status_date_2017-07-20</th>\n",
       "      <th>reservation_status_date_2017-08-18</th>\n",
       "      <th>reservation_status_date_2017-08-27</th>\n",
       "    </tr>\n",
       "  </thead>\n",
       "  <tbody>\n",
       "    <tr>\n",
       "      <th>2392</th>\n",
       "      <td>1</td>\n",
       "      <td>0</td>\n",
       "      <td>6</td>\n",
       "      <td>2015</td>\n",
       "      <td>42</td>\n",
       "      <td>11</td>\n",
       "      <td>2</td>\n",
       "      <td>0</td>\n",
       "      <td>2</td>\n",
       "      <td>0</td>\n",
       "      <td>...</td>\n",
       "      <td>0</td>\n",
       "      <td>0</td>\n",
       "      <td>0</td>\n",
       "      <td>0</td>\n",
       "      <td>0</td>\n",
       "      <td>0</td>\n",
       "      <td>0</td>\n",
       "      <td>0</td>\n",
       "      <td>0</td>\n",
       "      <td>0</td>\n",
       "    </tr>\n",
       "    <tr>\n",
       "      <th>2697</th>\n",
       "      <td>1</td>\n",
       "      <td>0</td>\n",
       "      <td>24</td>\n",
       "      <td>2015</td>\n",
       "      <td>44</td>\n",
       "      <td>26</td>\n",
       "      <td>7</td>\n",
       "      <td>15</td>\n",
       "      <td>1</td>\n",
       "      <td>0</td>\n",
       "      <td>...</td>\n",
       "      <td>0</td>\n",
       "      <td>0</td>\n",
       "      <td>0</td>\n",
       "      <td>0</td>\n",
       "      <td>0</td>\n",
       "      <td>0</td>\n",
       "      <td>0</td>\n",
       "      <td>0</td>\n",
       "      <td>0</td>\n",
       "      <td>0</td>\n",
       "    </tr>\n",
       "    <tr>\n",
       "      <th>2867</th>\n",
       "      <td>1</td>\n",
       "      <td>0</td>\n",
       "      <td>24</td>\n",
       "      <td>2015</td>\n",
       "      <td>45</td>\n",
       "      <td>3</td>\n",
       "      <td>0</td>\n",
       "      <td>3</td>\n",
       "      <td>2</td>\n",
       "      <td>0</td>\n",
       "      <td>...</td>\n",
       "      <td>0</td>\n",
       "      <td>0</td>\n",
       "      <td>0</td>\n",
       "      <td>0</td>\n",
       "      <td>0</td>\n",
       "      <td>0</td>\n",
       "      <td>0</td>\n",
       "      <td>0</td>\n",
       "      <td>0</td>\n",
       "      <td>0</td>\n",
       "    </tr>\n",
       "    <tr>\n",
       "      <th>2877</th>\n",
       "      <td>1</td>\n",
       "      <td>0</td>\n",
       "      <td>24</td>\n",
       "      <td>2015</td>\n",
       "      <td>45</td>\n",
       "      <td>3</td>\n",
       "      <td>2</td>\n",
       "      <td>10</td>\n",
       "      <td>1</td>\n",
       "      <td>0</td>\n",
       "      <td>...</td>\n",
       "      <td>0</td>\n",
       "      <td>0</td>\n",
       "      <td>0</td>\n",
       "      <td>0</td>\n",
       "      <td>0</td>\n",
       "      <td>0</td>\n",
       "      <td>0</td>\n",
       "      <td>0</td>\n",
       "      <td>0</td>\n",
       "      <td>0</td>\n",
       "    </tr>\n",
       "    <tr>\n",
       "      <th>2878</th>\n",
       "      <td>1</td>\n",
       "      <td>0</td>\n",
       "      <td>24</td>\n",
       "      <td>2015</td>\n",
       "      <td>45</td>\n",
       "      <td>3</td>\n",
       "      <td>3</td>\n",
       "      <td>10</td>\n",
       "      <td>2</td>\n",
       "      <td>0</td>\n",
       "      <td>...</td>\n",
       "      <td>0</td>\n",
       "      <td>0</td>\n",
       "      <td>0</td>\n",
       "      <td>0</td>\n",
       "      <td>0</td>\n",
       "      <td>0</td>\n",
       "      <td>0</td>\n",
       "      <td>0</td>\n",
       "      <td>0</td>\n",
       "      <td>0</td>\n",
       "    </tr>\n",
       "  </tbody>\n",
       "</table>\n",
       "<p>5 rows × 141 columns</p>\n",
       "</div>"
      ],
      "text/plain": [
       "      hotel  is_canceled  lead_time  arrival_date_year  \\\n",
       "2392      1            0          6               2015   \n",
       "2697      1            0         24               2015   \n",
       "2867      1            0         24               2015   \n",
       "2877      1            0         24               2015   \n",
       "2878      1            0         24               2015   \n",
       "\n",
       "      arrival_date_week_number  arrival_date_day_of_month  \\\n",
       "2392                        42                         11   \n",
       "2697                        44                         26   \n",
       "2867                        45                          3   \n",
       "2877                        45                          3   \n",
       "2878                        45                          3   \n",
       "\n",
       "      stays_in_weekend_nights  stays_in_week_nights  adults  \\\n",
       "2392                        2                     0       2   \n",
       "2697                        7                    15       1   \n",
       "2867                        0                     3       2   \n",
       "2877                        2                    10       1   \n",
       "2878                        3                    10       2   \n",
       "\n",
       "      is_repeated_guest  ...  reservation_status_date_2017-05-15  \\\n",
       "2392                  0  ...                                   0   \n",
       "2697                  0  ...                                   0   \n",
       "2867                  0  ...                                   0   \n",
       "2877                  0  ...                                   0   \n",
       "2878                  0  ...                                   0   \n",
       "\n",
       "      reservation_status_date_2017-05-25  reservation_status_date_2017-06-02  \\\n",
       "2392                                   0                                   0   \n",
       "2697                                   0                                   0   \n",
       "2867                                   0                                   0   \n",
       "2877                                   0                                   0   \n",
       "2878                                   0                                   0   \n",
       "\n",
       "      reservation_status_date_2017-06-10  reservation_status_date_2017-06-13  \\\n",
       "2392                                   0                                   0   \n",
       "2697                                   0                                   0   \n",
       "2867                                   0                                   0   \n",
       "2877                                   0                                   0   \n",
       "2878                                   0                                   0   \n",
       "\n",
       "      reservation_status_date_2017-06-20  reservation_status_date_2017-07-17  \\\n",
       "2392                                   0                                   0   \n",
       "2697                                   0                                   0   \n",
       "2867                                   0                                   0   \n",
       "2877                                   0                                   0   \n",
       "2878                                   0                                   0   \n",
       "\n",
       "      reservation_status_date_2017-07-20  reservation_status_date_2017-08-18  \\\n",
       "2392                                   0                                   0   \n",
       "2697                                   0                                   0   \n",
       "2867                                   0                                   0   \n",
       "2877                                   0                                   0   \n",
       "2878                                   0                                   0   \n",
       "\n",
       "      reservation_status_date_2017-08-27  \n",
       "2392                                   0  \n",
       "2697                                   0  \n",
       "2867                                   0  \n",
       "2877                                   0  \n",
       "2878                                   0  \n",
       "\n",
       "[5 rows x 141 columns]"
      ]
     },
     "execution_count": 10,
     "metadata": {},
     "output_type": "execute_result"
    }
   ],
   "source": [
    "# Vraag 10\n",
    "hotels_ML.head()"
   ]
  },
  {
   "cell_type": "code",
   "execution_count": 11,
   "id": "d3d53169",
   "metadata": {},
   "outputs": [],
   "source": [
    "# Vraag 11\n",
    "from sklearn.model_selection import train_test_split\n",
    "X = hotels_ML.drop('is_canceled', axis=1)\n",
    "y = hotels_ML['is_canceled']\n",
    "\n",
    "X_train, X_test, y_train, y_test = train_test_split(X, y, test_size = 0.25)"
   ]
  },
  {
   "cell_type": "code",
   "execution_count": 20,
   "id": "0cb749ab",
   "metadata": {},
   "outputs": [
    {
     "name": "stdout",
     "output_type": "stream",
     "text": [
      "\n",
      "accuracy score 0.9818181818181818\n",
      "precision score 1.0\n",
      "recall score 0.6666666666666666\n"
     ]
    }
   ],
   "source": [
    "# Vraag 12\n",
    "from sklearn.linear_model import LogisticRegression\n",
    "from sklearn.metrics import accuracy_score\n",
    "from sklearn.metrics import precision_score\n",
    "from sklearn.metrics import recall_score\n",
    "\n",
    "logistic_model = LogisticRegression(penalty= 'l2', solver='liblinear').fit(X_train, y_train)\n",
    "y_pred = logistic_model.predict(X_test)\n",
    "pred_results = pd.DataFrame({'y_test': y_test, 'y_pred': y_pred})\n",
    "\n",
    "acc = accuracy_score(y_test, y_pred)  # hoeveel van de voorspelde waarden heeft het model juist?\n",
    "prec = precision_score(y_test, y_pred) # maat voor hoeveel van de voorspelde overlevers ook echt de ramp overleefden\n",
    "recall = recall_score(y_test, y_pred) # maat voor hoeveel van de echte overlevers ook als overlevend voorspeld zijn\n",
    "\n",
    "print('')\n",
    "print('accuracy score', acc) \n",
    "print('precision score', prec) \n",
    "print('recall score', recall) "
   ]
  },
  {
   "cell_type": "code",
   "execution_count": 19,
   "id": "178f29c1",
   "metadata": {},
   "outputs": [
    {
     "name": "stdout",
     "output_type": "stream",
     "text": [
      "        y_test  y_pred\n",
      "18235        0       0\n",
      "111425       0       0\n",
      "30624        0       0\n",
      "15263        0       0\n",
      "31325        0       0\n",
      "99999        0       0\n",
      "25635        0       0\n",
      "39426        0       0\n",
      "18296        0       0\n",
      "3078         0       0\n",
      "19901        0       0\n",
      "2965         0       0\n",
      "38400        0       0\n",
      "76825        0       0\n",
      "102557       0       0\n",
      "2964         0       0\n",
      "107551       0       0\n",
      "3068         0       0\n",
      "40920        0       0\n",
      "3067         1       1\n"
     ]
    }
   ],
   "source": [
    "#Vraag 13\n",
    "print(pred_results.head(20))"
   ]
  },
  {
   "cell_type": "code",
   "execution_count": null,
   "id": "9863ccbc",
   "metadata": {},
   "outputs": [],
   "source": []
  }
 ],
 "metadata": {
  "kernelspec": {
   "display_name": "Python 3 (ipykernel)",
   "language": "python",
   "name": "python3"
  },
  "language_info": {
   "codemirror_mode": {
    "name": "ipython",
    "version": 3
   },
   "file_extension": ".py",
   "mimetype": "text/x-python",
   "name": "python",
   "nbconvert_exporter": "python",
   "pygments_lexer": "ipython3",
   "version": "3.9.13"
  }
 },
 "nbformat": 4,
 "nbformat_minor": 5
}
