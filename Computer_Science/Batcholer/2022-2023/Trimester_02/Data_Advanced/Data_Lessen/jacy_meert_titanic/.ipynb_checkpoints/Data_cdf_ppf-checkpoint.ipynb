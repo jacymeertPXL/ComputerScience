{
 "cells": [
  {
   "cell_type": "code",
   "execution_count": 3,
   "id": "8a009a18",
   "metadata": {},
   "outputs": [
    {
     "name": "stdout",
     "output_type": "stream",
     "text": [
      "0.10934855242569191\n",
      "0.018308899851658955\n",
      "0.11095348498906421\n"
     ]
    }
   ],
   "source": [
    "#Voorbeeld 1\n",
    "import scipy.stats as stats\n",
    "import math\n",
    "print(stats.norm.cdf(-1.23, 0, 1))\n",
    "print(1- stats.norm.cdf(2.09, 0, 1))\n",
    "print(stats.norm.cdf(2.85, 0, 1) - stats.norm.cdf(1.21, 0, 1))"
   ]
  },
  {
   "cell_type": "code",
   "execution_count": 4,
   "id": "2203b691",
   "metadata": {},
   "outputs": [
    {
     "name": "stdout",
     "output_type": "stream",
     "text": [
      "2.4892858647872407\n",
      "-1.9094815467290918\n",
      "-2.280129653030281\n"
     ]
    }
   ],
   "source": [
    "#Voorbeeld 2\n",
    "print(stats.norm.ppf(0.9936, 0, 1))\n",
    "print(stats.norm.ppf(0.0281, 0, 1))\n",
    "print(stats.norm.ppf(1 - 0.9887, 0, 1))"
   ]
  },
  {
   "cell_type": "code",
   "execution_count": 44,
   "id": "8a16040e",
   "metadata": {
    "scrolled": true
   },
   "outputs": [
    {
     "name": "stdout",
     "output_type": "stream",
     "text": [
      "23.013934044341646\n"
     ]
    }
   ],
   "source": [
    "#Oefening 1\n",
    "prob = 1 - stats.norm.cdf(140,110,25)\n",
    "print(200 * prob)"
   ]
  },
  {
   "cell_type": "code",
   "execution_count": 50,
   "id": "aefc6eea",
   "metadata": {
    "scrolled": true
   },
   "outputs": [
    {
     "name": "stdout",
     "output_type": "stream",
     "text": [
      "0.2857874067778077\n",
      "60\n",
      "Tijd nodig voor 90% van de studenten: 82\n"
     ]
    }
   ],
   "source": [
    "#Oefening 2\n",
    "# a\n",
    "print(stats.norm.cdf(75,80,100 ** 0.5) - stats.norm.cdf(60,80,100 ** 0.5))\n",
    "\n",
    "# b\n",
    "z = (90 - 80) / (math.sqrt(100) / math.sqrt(60))\n",
    "print(round(60 * norm.cdf(z)))\n",
    "\n",
    "# c\n",
    "print(round(80 + norm.ppf(0.9) * math.sqrt(100) / math.sqrt(60)))"
   ]
  },
  {
   "cell_type": "code",
   "execution_count": 25,
   "id": "19e3aef5",
   "metadata": {},
   "outputs": [
    {
     "name": "stdout",
     "output_type": "stream",
     "text": [
      "-1.75068607125217\n",
      "3.24931392874783\n"
     ]
    }
   ],
   "source": [
    "#Oefening 3\n",
    "z = stats.norm.ppf(0.04)\n",
    "print(z)\n",
    "x = 5 + z * 1\n",
    "print(x)"
   ]
  },
  {
   "cell_type": "code",
   "execution_count": 38,
   "id": "a2d16a51",
   "metadata": {},
   "outputs": [
    {
     "name": "stdout",
     "output_type": "stream",
     "text": [
      "0.242\n",
      "42907.76\n"
     ]
    }
   ],
   "source": [
    "#Oefening 6\n",
    "from scipy.stats import norm\n",
    "#a\n",
    "print(round(1 - norm.cdf(40000, loc=36500, scale=5000), 4))\n",
    "\n",
    "#b\n",
    "print(round(norm.ppf(1-0.1, loc=mu, scale=sigma), 2))"
   ]
  },
  {
   "cell_type": "code",
   "execution_count": null,
   "id": "f854f400",
   "metadata": {},
   "outputs": [],
   "source": []
  }
 ],
 "metadata": {
  "kernelspec": {
   "display_name": "Python 3 (ipykernel)",
   "language": "python",
   "name": "python3"
  },
  "language_info": {
   "codemirror_mode": {
    "name": "ipython",
    "version": 3
   },
   "file_extension": ".py",
   "mimetype": "text/x-python",
   "name": "python",
   "nbconvert_exporter": "python",
   "pygments_lexer": "ipython3",
   "version": "3.9.13"
  }
 },
 "nbformat": 4,
 "nbformat_minor": 5
}
