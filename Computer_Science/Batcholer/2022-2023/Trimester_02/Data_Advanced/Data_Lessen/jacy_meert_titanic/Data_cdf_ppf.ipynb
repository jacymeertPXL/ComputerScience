{
 "cells": [
  {
   "cell_type": "code",
   "execution_count": 3,
   "id": "8a009a18",
   "metadata": {},
   "outputs": [
    {
     "name": "stdout",
     "output_type": "stream",
     "text": [
      "0.10934855242569191\n",
      "0.018308899851658955\n",
      "0.11095348498906421\n"
     ]
    }
   ],
   "source": [
    "#Voorbeeld 1\n",
    "import scipy.stats as stats\n",
    "import math\n",
    "print(stats.norm.cdf(-1.23, 0, 1))\n",
    "print(1- stats.norm.cdf(2.09, 0, 1))\n",
    "print(stats.norm.cdf(2.85, 0, 1) - stats.norm.cdf(1.21, 0, 1))"
   ]
  },
  {
   "cell_type": "code",
   "execution_count": 4,
   "id": "2203b691",
   "metadata": {},
   "outputs": [
    {
     "name": "stdout",
     "output_type": "stream",
     "text": [
      "2.4892858647872407\n",
      "-1.9094815467290918\n",
      "-2.280129653030281\n"
     ]
    }
   ],
   "source": [
    "#Voorbeeld 2\n",
    "print(stats.norm.ppf(0.9936, 0, 1))\n",
    "print(stats.norm.ppf(0.0281, 0, 1))\n",
    "print(stats.norm.ppf(1 - 0.9887, 0, 1))"
   ]
  },
  {
   "cell_type": "code",
   "execution_count": 44,
   "id": "8a16040e",
   "metadata": {
    "scrolled": true
   },
   "outputs": [
    {
     "name": "stdout",
     "output_type": "stream",
     "text": [
      "23.013934044341646\n"
     ]
    }
   ],
   "source": [
    "#Oefening 1\n",
    "prob = 1 - stats.norm.cdf(140,110,25)\n",
    "print(200 * prob)"
   ]
  },
  {
   "cell_type": "code",
   "execution_count": 65,
   "id": "d5f6ba32",
   "metadata": {
    "scrolled": true
   },
   "outputs": [
    {
     "name": "stdout",
     "output_type": "stream",
     "text": [
      "0.2857874067778077\n",
      "-49.480684764112574\n",
      "92.815515655446\n"
     ]
    }
   ],
   "source": [
    "#Oefening 2\n",
    "# a\n",
    "print(stats.norm.cdf(75,80,100 ** 0.5) - stats.norm.cdf(60,80,100 ** 0.5))\n",
    "# b\n",
    "print(1 -stats.norm.cdf(90,80,10) * 60)\n",
    "# c\n",
    "print(stats.norm.ppf(0.9,80,10))"
   ]
  },
  {
   "cell_type": "code",
   "execution_count": 67,
   "id": "8931c21b",
   "metadata": {},
   "outputs": [
    {
     "name": "stdout",
     "output_type": "stream",
     "text": [
      "3.24931392874783\n"
     ]
    }
   ],
   "source": [
    "#Oefening 3\n",
    "print(norm.ppf(0.04,5,1))"
   ]
  },
  {
   "cell_type": "code",
   "execution_count": 75,
   "id": "d32a3efa",
   "metadata": {},
   "outputs": [
    {
     "name": "stdout",
     "output_type": "stream",
     "text": [
      "0.24196365222307303\n",
      "30092.242172276998\n"
     ]
    }
   ],
   "source": [
    "#Oefening 6\n",
    "#a\n",
    "print((1 - norm.cdf(40000,36500,5000)))#in percentage\n",
    "\n",
    "#b\n",
    "print(norm.ppf(0.1,36500,5000))#in kilometer\n",
    "\n",
    "# cdf voor kans berekenen of oppervlakte enz\n",
    "# ppf weet je de oppervlakte "
   ]
  },
  {
   "cell_type": "code",
   "execution_count": null,
   "id": "b1e53a8e",
   "metadata": {},
   "outputs": [],
   "source": []
  }
 ],
 "metadata": {
  "kernelspec": {
   "display_name": "Python 3 (ipykernel)",
   "language": "python",
   "name": "python3"
  },
  "language_info": {
   "codemirror_mode": {
    "name": "ipython",
    "version": 3
   },
   "file_extension": ".py",
   "mimetype": "text/x-python",
   "name": "python",
   "nbconvert_exporter": "python",
   "pygments_lexer": "ipython3",
   "version": "3.9.13"
  }
 },
 "nbformat": 4,
 "nbformat_minor": 5
}
