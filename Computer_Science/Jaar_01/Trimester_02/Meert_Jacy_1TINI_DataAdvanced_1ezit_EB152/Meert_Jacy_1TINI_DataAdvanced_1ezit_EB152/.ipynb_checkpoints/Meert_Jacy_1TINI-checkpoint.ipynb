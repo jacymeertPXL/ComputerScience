{
 "cells": [
  {
   "cell_type": "code",
   "execution_count": null,
   "id": "18e03a1e",
   "metadata": {},
   "outputs": [],
   "source": [
    "#vraag 1 \n",
    "#geen antwoord"
   ]
  },
  {
   "cell_type": "code",
   "execution_count": null,
   "id": "78f169fd",
   "metadata": {},
   "outputs": [],
   "source": [
    "#import tips van seaborn\n",
    "import seaborn as sns\n",
    "\n",
    "tips = sns.load_dataset(\"tips\")\n",
    "\n",
    "print(tips.head())\n",
    "\n",
    "## geen van bijde werkt voor import bij mij\n",
    "\n",
    "from seaborn import datasets\n",
    "\n",
    "tips = datasets.load_tips()\n",
    "\n",
    "print(tips.head()) "
   ]
  },
  {
   "cell_type": "code",
   "execution_count": null,
   "id": "145986d1",
   "metadata": {},
   "outputs": [],
   "source": [
    "#vraag 2\n",
    "import matplotlib.pyplot as plt\n",
    "import pandas as pd\n",
    "bar_data = tips.days.value_counts().head(10)\n",
    "bar_plot = bar_data.plot.bar(figsize=(5,5), title = 'dagen dat de mensen het meest komen')"
   ]
  },
  {
   "cell_type": "code",
   "execution_count": null,
   "id": "5190ce02",
   "metadata": {},
   "outputs": [],
   "source": [
    "#vraag 3\n",
    "labels = 'Rookers' , 'Niet Rokers'\n",
    "plt.pie(tips.smoker.value_counts(), labels = labels, autopct='%3.1f%%')\n",
    "plt.title('Cirkeldiagram van smokers')\n",
    "plt.show()"
   ]
  },
  {
   "cell_type": "code",
   "execution_count": 18,
   "id": "5c5ec5e5",
   "metadata": {},
   "outputs": [],
   "source": [
    "#vraag 4\n",
    "pd.crosstab(tips.day, tips.tip).plot(kind = 'bar', rot = 0)"
   ]
  },
  {
   "cell_type": "code",
   "execution_count": 19,
   "id": "02a0756d",
   "metadata": {},
   "outputs": [],
   "source": [
    "#vraag 5\n",
    "pd.crosstab(tips.smoker, tips.sex).plot(kind = 'bar', rot = 0)"
   ]
  },
  {
   "cell_type": "code",
   "execution_count": 20,
   "id": "64e95b59",
   "metadata": {},
   "outputs": [],
   "source": [
    "#vraag 6\n",
    "pd.crosstab(tips.tip, tips.time, margins = True)\n",
    "#Bespreek"
   ]
  },
  {
   "cell_type": "code",
   "execution_count": 21,
   "id": "3684c17a",
   "metadata": {},
   "outputs": [],
   "source": [
    "#vraag 7\n",
    "pd.crosstab(tips.tip, tips.total_bill, margins = True)\n",
    "#Bespreek"
   ]
  },
  {
   "cell_type": "code",
   "execution_count": 22,
   "id": "9292c5e6",
   "metadata": {},
   "outputs": [],
   "source": [
    "#vraag 8\n",
    "data = tips.head(5)\n",
    "data.notnull().boxplot('Feature total_bill')"
   ]
  },
  {
   "cell_type": "code",
   "execution_count": 23,
   "id": "de294570",
   "metadata": {},
   "outputs": [],
   "source": [
    "#vraag 9\n",
    "pd.crosstab(tips.sex, tips.day, margins = True)"
   ]
  },
  {
   "cell_type": "code",
   "execution_count": 24,
   "id": "0b198fc9",
   "metadata": {},
   "outputs": [],
   "source": [
    "#vraag 10\n",
    "#we mogen aannemend dat die nips normaal is\n",
    "#verdeelt door de reprensentatie"
   ]
  },
  {
   "cell_type": "code",
   "execution_count": 25,
   "id": "cd9bceb4",
   "metadata": {},
   "outputs": [],
   "source": [
    "#vraag 11\n",
    "import pandas as pd\n",
    "tips = tips.fillna(tips.mean())\n",
    "\n",
    "from sklearn.preprocessing import StandardScaler\n",
    "\n",
    "scaler = StandardScaler()\n",
    "tips[['total_bill', 'time']] = scaler.fit_transform(tips[['total_bill', 'time']])\n",
    "\n",
    "from sklearn.model_selection import train_test_split\n",
    "\n",
    "train_data, test_data = train_test_split(tips, test_size=0.25, random_state=42)\n",
    "\n",
    "from sklearn.linear_model import LinearRegression\n",
    "\n",
    "model = LinearRegression()\n",
    "\n",
    "X_train = train_data[['total_bill', 'time', 'size']]\n",
    "y_train = train_data['tip']\n",
    "\n",
    "model.fit(X_train, y_train)\n",
    "\n",
    "from sklearn.metrics import mean_absolute_error, r2_score\n",
    "\n",
    "y_pred = model.predict(X_train)\n",
    "mae = mean_absolute_error(y_train, y_pred)\n",
    "r2 = r2_score(y_train, y_pred)\n",
    "\n",
    "print(f\"Training MAE: {mae:.3f}, R-Squared: {r2:.3f}\")\n",
    "X_test = test_data[['total_bill', 'time', 'size']]\n",
    "y_pred = model.predict(X_test)"
   ]
  }
 ],
 "metadata": {
  "kernelspec": {
   "display_name": "Python 3 (ipykernel)",
   "language": "python",
   "name": "python3"
  },
  "language_info": {
   "codemirror_mode": {
    "name": "ipython",
    "version": 3
   },
   "file_extension": ".py",
   "mimetype": "text/x-python",
   "name": "python",
   "nbconvert_exporter": "python",
   "pygments_lexer": "ipython3",
   "version": "3.9.13"
  }
 },
 "nbformat": 4,
 "nbformat_minor": 5
}
