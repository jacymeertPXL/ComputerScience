{
 "cells": [
  {
   "cell_type": "code",
   "execution_count": 58,
   "id": "18b89550",
   "metadata": {},
   "outputs": [
    {
     "name": "stdout",
     "output_type": "stream",
     "text": [
      "4.337244875098041\n"
     ]
    }
   ],
   "source": [
    "# Vraag 01\n",
    "# 50 procent van de bags zullen dan niet toegelaten worden"
   ]
  },
  {
   "cell_type": "code",
   "execution_count": 9,
   "id": "74b407a4",
   "metadata": {},
   "outputs": [],
   "source": [
    "# Vraag 02\n",
    "import pandas as pd\n",
    "diabetes = pd.read_csv('diabetes_data.csv')"
   ]
  },
  {
   "cell_type": "code",
   "execution_count": 10,
   "id": "dedfd07e",
   "metadata": {},
   "outputs": [
    {
     "data": {
      "text/plain": [
       "AgeCategory\n",
       "20-30    385\n",
       "30-40    163\n",
       "40-50    117\n",
       "50-60     56\n",
       "60-70     28\n",
       "70+        3\n",
       "Name: count, dtype: int64"
      ]
     },
     "execution_count": 10,
     "metadata": {},
     "output_type": "execute_result"
    }
   ],
   "source": [
    "# Vraag 02\n",
    "diabetes.AgeCategory.value_counts()\n",
    "\n",
    "# 20-30 jaar oud -> 385"
   ]
  },
  {
   "cell_type": "code",
   "execution_count": 16,
   "id": "d766bf21",
   "metadata": {},
   "outputs": [
    {
     "data": {
      "text/plain": [
       "<Axes: ylabel='count'>"
      ]
     },
     "execution_count": 16,
     "metadata": {},
     "output_type": "execute_result"
    },
    {
     "data": {
      "image/png": "[encoded data removed]",
      "text/plain": [
       "<Figure size 640x480 with 1 Axes>"
      ]
     },
     "metadata": {},
     "output_type": "display_data"
    }
   ],
   "source": [
    "# Vraag 03\n",
    "slp_data_pie = diabetes.Outcome.value_counts()\n",
    "slp_data_pie.plot(kind = 'pie', autopct='%5.2f%%')\n",
    "# 0 = geen, 1 = diabetes"
   ]
  },
  {
   "cell_type": "code",
   "execution_count": 17,
   "id": "baaf09c9",
   "metadata": {},
   "outputs": [
    {
     "data": {
      "text/html": [
       "<div>\n",
       "<style scoped>\n",
       "    .dataframe tbody tr th:only-of-type {\n",
       "        vertical-align: middle;\n",
       "    }\n",
       "\n",
       "    .dataframe tbody tr th {\n",
       "        vertical-align: top;\n",
       "    }\n",
       "\n",
       "    .dataframe thead th {\n",
       "        text-align: right;\n",
       "    }\n",
       "</style>\n",
       "<table border=\"1\" class=\"dataframe\">\n",
       "  <thead>\n",
       "    <tr style=\"text-align: right;\">\n",
       "      <th>AgeCategory</th>\n",
       "      <th>20-30</th>\n",
       "      <th>30-40</th>\n",
       "      <th>40-50</th>\n",
       "      <th>50-60</th>\n",
       "      <th>60-70</th>\n",
       "      <th>70+</th>\n",
       "    </tr>\n",
       "    <tr>\n",
       "      <th>Glucose</th>\n",
       "      <th></th>\n",
       "      <th></th>\n",
       "      <th></th>\n",
       "      <th></th>\n",
       "      <th></th>\n",
       "      <th></th>\n",
       "    </tr>\n",
       "  </thead>\n",
       "  <tbody>\n",
       "    <tr>\n",
       "      <th>44.0</th>\n",
       "      <td>0</td>\n",
       "      <td>1</td>\n",
       "      <td>0</td>\n",
       "      <td>0</td>\n",
       "      <td>0</td>\n",
       "      <td>0</td>\n",
       "    </tr>\n",
       "    <tr>\n",
       "      <th>56.0</th>\n",
       "      <td>1</td>\n",
       "      <td>0</td>\n",
       "      <td>0</td>\n",
       "      <td>0</td>\n",
       "      <td>0</td>\n",
       "      <td>0</td>\n",
       "    </tr>\n",
       "    <tr>\n",
       "      <th>57.0</th>\n",
       "      <td>0</td>\n",
       "      <td>0</td>\n",
       "      <td>1</td>\n",
       "      <td>0</td>\n",
       "      <td>1</td>\n",
       "      <td>0</td>\n",
       "    </tr>\n",
       "    <tr>\n",
       "      <th>61.0</th>\n",
       "      <td>0</td>\n",
       "      <td>0</td>\n",
       "      <td>1</td>\n",
       "      <td>0</td>\n",
       "      <td>0</td>\n",
       "      <td>0</td>\n",
       "    </tr>\n",
       "    <tr>\n",
       "      <th>62.0</th>\n",
       "      <td>0</td>\n",
       "      <td>0</td>\n",
       "      <td>1</td>\n",
       "      <td>0</td>\n",
       "      <td>0</td>\n",
       "      <td>0</td>\n",
       "    </tr>\n",
       "    <tr>\n",
       "      <th>...</th>\n",
       "      <td>...</td>\n",
       "      <td>...</td>\n",
       "      <td>...</td>\n",
       "      <td>...</td>\n",
       "      <td>...</td>\n",
       "      <td>...</td>\n",
       "    </tr>\n",
       "    <tr>\n",
       "      <th>195.0</th>\n",
       "      <td>0</td>\n",
       "      <td>1</td>\n",
       "      <td>0</td>\n",
       "      <td>1</td>\n",
       "      <td>0</td>\n",
       "      <td>0</td>\n",
       "    </tr>\n",
       "    <tr>\n",
       "      <th>196.0</th>\n",
       "      <td>1</td>\n",
       "      <td>0</td>\n",
       "      <td>1</td>\n",
       "      <td>1</td>\n",
       "      <td>0</td>\n",
       "      <td>0</td>\n",
       "    </tr>\n",
       "    <tr>\n",
       "      <th>197.0</th>\n",
       "      <td>0</td>\n",
       "      <td>2</td>\n",
       "      <td>0</td>\n",
       "      <td>1</td>\n",
       "      <td>1</td>\n",
       "      <td>0</td>\n",
       "    </tr>\n",
       "    <tr>\n",
       "      <th>198.0</th>\n",
       "      <td>1</td>\n",
       "      <td>0</td>\n",
       "      <td>0</td>\n",
       "      <td>0</td>\n",
       "      <td>0</td>\n",
       "      <td>0</td>\n",
       "    </tr>\n",
       "    <tr>\n",
       "      <th>199.0</th>\n",
       "      <td>1</td>\n",
       "      <td>0</td>\n",
       "      <td>0</td>\n",
       "      <td>0</td>\n",
       "      <td>0</td>\n",
       "      <td>0</td>\n",
       "    </tr>\n",
       "  </tbody>\n",
       "</table>\n",
       "<p>135 rows × 6 columns</p>\n",
       "</div>"
      ],
      "text/plain": [
       "AgeCategory  20-30  30-40  40-50  50-60  60-70  70+\n",
       "Glucose                                            \n",
       "44.0             0      1      0      0      0    0\n",
       "56.0             1      0      0      0      0    0\n",
       "57.0             0      0      1      0      1    0\n",
       "61.0             0      0      1      0      0    0\n",
       "62.0             0      0      1      0      0    0\n",
       "...            ...    ...    ...    ...    ...  ...\n",
       "195.0            0      1      0      1      0    0\n",
       "196.0            1      0      1      1      0    0\n",
       "197.0            0      2      0      1      1    0\n",
       "198.0            1      0      0      0      0    0\n",
       "199.0            1      0      0      0      0    0\n",
       "\n",
       "[135 rows x 6 columns]"
      ]
     },
     "execution_count": 17,
     "metadata": {},
     "output_type": "execute_result"
    }
   ],
   "source": [
    "# Vraag 04\n",
    "pd.crosstab(diabetes.Glucose, diabetes.AgeCategory)\n",
    "# gemidelde Glucose op de leeftijd"
   ]
  },
  {
   "cell_type": "code",
   "execution_count": 22,
   "id": "b2e342b7",
   "metadata": {
    "scrolled": false
   },
   "outputs": [
    {
     "data": {
      "text/plain": [
       "<matplotlib.collections.PathCollection at 0x1b94f29a880>"
      ]
     },
     "execution_count": 22,
     "metadata": {},
     "output_type": "execute_result"
    },
    {
     "data": {
      "image/png": "[encoded data removed]",
      "text/plain": [
       "<Figure size 640x480 with 1 Axes>"
      ]
     },
     "metadata": {},
     "output_type": "display_data"
    }
   ],
   "source": [
    "# Vraag 05\n",
    "import matplotlib.pyplot as plt\n",
    "plt.scatter(diabetes.SkinThickness, diabetes.BMI)\n",
    "# in de plt.scatter kan je zien hoe deze vaak dicht bij elkaar ligen dussen mensen mesen en hogere bmi hebben ook vaak een\n",
    "# grotere skinthicness ook het omgekeerde"
   ]
  },
  {
   "cell_type": "code",
   "execution_count": 29,
   "id": "571f1235",
   "metadata": {},
   "outputs": [
    {
     "name": "stdout",
     "output_type": "stream",
     "text": [
      "Glucose                     0\n",
      "BloodPressure               0\n",
      "SkinThickness               0\n",
      "Insulin                     0\n",
      "BMI                         0\n",
      "DiabetesPedigreeFunction    0\n",
      "AgeCategory                 0\n",
      "Outcome                     0\n",
      "dtype: int64\n"
     ]
    }
   ],
   "source": [
    "# Vraag 06\n",
    "for col in diabetes.columns:\n",
    "    if diabetes[col].isna().mean() < 0.05: \n",
    "        diabetes.dropna(subset={col}, inplace=True)\n",
    "    elif col in ['Glucose', 'BloodPressure']:  \n",
    "        diabetes.loc[diabetes[col].isna(), col] = -3.36 + 0.99 * diabetes_data['BMI']\n",
    "    else:  \n",
    "        diabetes[col].fillna(diabetes[col].median(), inplace=True)\n",
    "\n",
    "print(diabetes.isna().sum())\n",
    "# er zijn geen NA waarden meer"
   ]
  },
  {
   "cell_type": "code",
   "execution_count": 23,
   "id": "994e46c5",
   "metadata": {},
   "outputs": [
    {
     "data": {
      "text/plain": [
       "<matplotlib.collections.PathCollection at 0x1b94f20f430>"
      ]
     },
     "execution_count": 23,
     "metadata": {},
     "output_type": "execute_result"
    },
    {
     "data": {
      "image/png": "[encoded data removed]",
      "text/plain": [
       "<Figure size 640x480 with 1 Axes>"
      ]
     },
     "metadata": {},
     "output_type": "display_data"
    }
   ],
   "source": [
    "# Vraag 07\n",
    "import matplotlib.pyplot as plt\n",
    "plt.scatter(diabetes.BMI, diabetes.AgeCategory)\n",
    "# het lijtk er op dat mensen op een jongere leeftijd een hogere bmi zal hebben dan op een latere leetijd"
   ]
  },
  {
   "cell_type": "code",
   "execution_count": 47,
   "id": "3a32a76e",
   "metadata": {},
   "outputs": [],
   "source": [
    "# Vraag 08\n",
    "#wegschrijven naar een csv bestand \n",
    "diabetes.to_csv('diabetes_train_df_klaar.csv', index = False)\n",
    "diabetes_ML = pd.read_csv('diabetes_train_df_klaar.csv')\n",
    "diabetes_ML = diabetes_ML.drop(['Insulin','SkinThickness', 'BloodPressure'], axis=1\n",
    "# tabelen droppen die niet relevant zijn voor ML"
   ]
  },
  {
   "cell_type": "code",
   "execution_count": 48,
   "id": "a3f1158d",
   "metadata": {},
   "outputs": [],
   "source": [
    "# vraag 08\n",
    "from sklearn.model_selection import train_test_split\n",
    "X = diabetes_ML.drop('Outcome', axis=1)\n",
    "y = diabetes_ML['Outcome']\n",
    "\n",
    "X_train, X_test, y_train, y_test = train_test_split(X, y, test_size = 0.2)\n",
    "# test en training samples maken 80 procent is train 20 test"
   ]
  },
  {
   "cell_type": "code",
   "execution_count": 49,
   "id": "daed623e",
   "metadata": {},
   "outputs": [
    {
     "data": {
      "text/plain": [
       "((579, 4), (579,))"
      ]
     },
     "execution_count": 49,
     "metadata": {},
     "output_type": "execute_result"
    }
   ],
   "source": [
    "# vraag 08\n",
    "X_train.shape, y_train.shape"
   ]
  },
  {
   "cell_type": "code",
   "execution_count": 50,
   "id": "e80cb34b",
   "metadata": {},
   "outputs": [
    {
     "data": {
      "text/plain": [
       "((145, 4), (145,))"
      ]
     },
     "execution_count": 50,
     "metadata": {},
     "output_type": "execute_result"
    }
   ],
   "source": [
    "# vraag 08\n",
    "X_test.shape, y_test.shape"
   ]
  },
  {
   "cell_type": "code",
   "execution_count": 53,
   "id": "1a1fe576",
   "metadata": {
    "scrolled": true
   },
   "outputs": [],
   "source": [
    "# vraag 08\n",
    "from sklearn.preprocessing import LabelEncoder\n",
    "\n",
    "label = LabelEncoder()\n",
    "X_train['AgeCategory'] = label.fit_transform(X_train['AgeCategory'])\n",
    "X_test['AgeCategory'] = label.transform(X_test['AgeCategory'])\n",
    "# zorgen dat er dummy variabelen zijn anders error over convert float"
   ]
  },
  {
   "cell_type": "code",
   "execution_count": 55,
   "id": "d2fc2f89",
   "metadata": {},
   "outputs": [],
   "source": [
    "# vraag 08\n",
    "from sklearn.linear_model import LogisticRegression\n",
    "logistic_model = LogisticRegression(penalty= 'l2', solver='liblinear').fit(X_train, y_train)\n",
    "y_pred = logistic_model.predict(X_test)"
   ]
  },
  {
   "cell_type": "code",
   "execution_count": 57,
   "id": "4a9a6497",
   "metadata": {},
   "outputs": [
    {
     "name": "stdout",
     "output_type": "stream",
     "text": [
      "accuracy score 0.8\n",
      "precision score 0.7058823529411765\n",
      "recall score 0.5581395348837209\n"
     ]
    }
   ],
   "source": [
    "# vraag 08\n",
    "from sklearn.metrics import accuracy_score\n",
    "from sklearn.metrics import precision_score\n",
    "from sklearn.metrics import recall_score\n",
    "\n",
    "acc = accuracy_score(y_test, y_pred) \n",
    "prec = precision_score(y_test, y_pred) \n",
    "recall = recall_score(y_test, y_pred)\n",
    "\n",
    "print('accuracy score', acc) \n",
    "print('precision score', prec) \n",
    "print('recall score', recall) "
   ]
  },
  {
   "cell_type": "code",
   "execution_count": null,
   "id": "135d588d",
   "metadata": {},
   "outputs": [],
   "source": [
    "# vraag 09 (Bonus)\n",
    "# hooge likelyhood op diabetes"
   ]
  }
 ],
 "metadata": {
  "kernelspec": {
   "display_name": "Python 3 (ipykernel)",
   "language": "python",
   "name": "python3"
  },
  "language_info": {
   "codemirror_mode": {
    "name": "ipython",
    "version": 3
   },
   "file_extension": ".py",
   "mimetype": "text/x-python",
   "name": "python",
   "nbconvert_exporter": "python",
   "pygments_lexer": "ipython3",
   "version": "3.9.13"
  }
 },
 "nbformat": 4,
 "nbformat_minor": 5
}
